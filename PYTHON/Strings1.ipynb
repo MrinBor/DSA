{
 "cells": [
  {
   "cell_type": "code",
   "execution_count": 2,
   "metadata": {},
   "outputs": [
    {
     "name": "stdout",
     "output_type": "stream",
     "text": [
      "33\n"
     ]
    }
   ],
   "source": [
    "s = \"Hello My name is Mrinmoy Bordoloi\"\n",
    "lent1 = len(s)\n",
    "print(lent1)"
   ]
  },
  {
   "cell_type": "code",
   "execution_count": 6,
   "metadata": {},
   "outputs": [
    {
     "name": "stdout",
     "output_type": "stream",
     "text": [
      "HloM aei rno odl\n"
     ]
    }
   ],
   "source": [
    "s1 = s[0:-1:2]\n",
    "print(s1)"
   ]
  },
  {
   "cell_type": "code",
   "execution_count": 10,
   "metadata": {},
   "outputs": [
    {
     "name": "stdout",
     "output_type": "stream",
     "text": [
      "HloM aei rno odli\n"
     ]
    }
   ],
   "source": [
    "\n",
    "print(s[0:lent1:2])"
   ]
  },
  {
   "cell_type": "code",
   "execution_count": 13,
   "metadata": {},
   "outputs": [
    {
     "ename": "SyntaxError",
     "evalue": "invalid syntax (535030630.py, line 3)",
     "output_type": "error",
     "traceback": [
      "\u001b[1;36m  Cell \u001b[1;32mIn[13], line 3\u001b[1;36m\u001b[0m\n\u001b[1;33m    import _ in tqdm(range(120)):\u001b[0m\n\u001b[1;37m             ^\u001b[0m\n\u001b[1;31mSyntaxError\u001b[0m\u001b[1;31m:\u001b[0m invalid syntax\n"
     ]
    }
   ],
   "source": [
    "import os;\n",
    "from tqdm.notebook import tqdm\n",
    "import _ in tqdm(range(120)):\n",
    " time.sleep() \n"
   ]
  },
  {
   "cell_type": "code",
   "execution_count": 14,
   "metadata": {},
   "outputs": [
    {
     "data": {
      "application/vnd.jupyter.widget-view+json": {
       "model_id": "7e2894fe631d4315b82435fe231003c3",
       "version_major": 2,
       "version_minor": 0
      },
      "text/plain": [
       "  0%|          | 0/120 [00:00<?, ?it/s]"
      ]
     },
     "metadata": {},
     "output_type": "display_data"
    }
   ],
   "source": [
    "import time\n",
    "from tqdm.notebook import tqdm\n",
    "\n",
    "\n",
    "for _ in tqdm(range(120)):\n",
    "    time.sleep(0.1)"
   ]
  },
  {
   "cell_type": "code",
   "execution_count": 20,
   "metadata": {},
   "outputs": [
    {
     "name": "stdout",
     "output_type": "stream",
     "text": [
      " Python is an awesome language !!  \n"
     ]
    }
   ],
   "source": [
    "s = \" Python is an awesome language !!  \"\n",
    "print(s)"
   ]
  },
  {
   "cell_type": "code",
   "execution_count": 21,
   "metadata": {},
   "outputs": [
    {
     "name": "stdout",
     "output_type": "stream",
     "text": [
      "Mairoo\n"
     ]
    }
   ],
   "source": [
    "s = s1[3:15:2]\n",
    "print(s)"
   ]
  },
  {
   "cell_type": "code",
   "execution_count": 22,
   "metadata": {},
   "outputs": [
    {
     "name": "stdout",
     "output_type": "stream",
     "text": [
      "Mairoo\n"
     ]
    }
   ],
   "source": [
    "print(s)"
   ]
  },
  {
   "cell_type": "code",
   "execution_count": 23,
   "metadata": {},
   "outputs": [
    {
     "name": "stdout",
     "output_type": "stream",
     "text": [
      "Mairoo\n"
     ]
    }
   ],
   "source": [
    "print(s)"
   ]
  },
  {
   "cell_type": "code",
   "execution_count": 24,
   "metadata": {},
   "outputs": [
    {
     "name": "stdout",
     "output_type": "stream",
     "text": [
      "Hello ! My name is Mrinmoy \n"
     ]
    }
   ],
   "source": [
    "a1 = \"Hello ! My name is Mrinmoy \"\n",
    "print(a1)"
   ]
  },
  {
   "cell_type": "code",
   "execution_count": 25,
   "metadata": {},
   "outputs": [],
   "source": [
    "a2 = a1[0:len(a1):1]"
   ]
  },
  {
   "cell_type": "code",
   "execution_count": 26,
   "metadata": {},
   "outputs": [
    {
     "name": "stdout",
     "output_type": "stream",
     "text": [
      "Hello ! My name is Mrinmoy \n"
     ]
    }
   ],
   "source": [
    "print(a2)"
   ]
  },
  {
   "cell_type": "code",
   "execution_count": 27,
   "metadata": {},
   "outputs": [
    {
     "name": "stdout",
     "output_type": "stream",
     "text": [
      "Mrinmoy Bordoloi\n"
     ]
    }
   ],
   "source": [
    "A1 = \"Mrinmoy Bordoloi\"\n",
    "print(A1)"
   ]
  },
  {
   "cell_type": "code",
   "execution_count": null,
   "metadata": {},
   "outputs": [],
   "source": [
    "print(A1[0:len(A1)-1:])"
   ]
  },
  {
   "cell_type": "code",
   "execution_count": 28,
   "metadata": {},
   "outputs": [
    {
     "data": {
      "application/vnd.jupyter.widget-view+json": {
       "model_id": "98557c05d2a44edbbc0ef814ffe39d6d",
       "version_major": 2,
       "version_minor": 0
      },
      "text/plain": [
       "  0%|          | 0/120 [00:00<?, ?it/s]"
      ]
     },
     "metadata": {},
     "output_type": "display_data"
    }
   ],
   "source": [
    "import time\n",
    "from tqdm.notebook import tqdm\n",
    "\n",
    "\n",
    "for _ in tqdm(range(120)):\n",
    "    time.sleep(0.1)"
   ]
  },
  {
   "cell_type": "code",
   "execution_count": 29,
   "metadata": {},
   "outputs": [],
   "source": [
    "s = \"Hi there My name is Mrinmoy \"\n",
    "s1 = s[:]\n",
    "s2 = s"
   ]
  },
  {
   "cell_type": "code",
   "execution_count": 30,
   "metadata": {},
   "outputs": [
    {
     "name": "stdout",
     "output_type": "stream",
     "text": [
      "Hi there My name is Mrinmoy \n",
      "Hi there My name is Mrinmoy \n"
     ]
    }
   ],
   "source": [
    "print(s1)\n",
    "print(s2)"
   ]
  },
  {
   "cell_type": "code",
   "execution_count": 35,
   "metadata": {},
   "outputs": [
    {
     "name": "stdout",
     "output_type": "stream",
     "text": [
      "Hi there How are You  | THE ID IS AS FOLLOWS ->  2650746702384\n"
     ]
    }
   ],
   "source": [
    "A1 = \"Hi there How are You\"\n",
    "print(A1,\" | THE ID IS AS FOLLOWS -> \",id(A1))"
   ]
  },
  {
   "cell_type": "code",
   "execution_count": 32,
   "metadata": {},
   "outputs": [
    {
     "name": "stdout",
     "output_type": "stream",
     "text": [
      "My name is Mrinmoy Bordoloi\n"
     ]
    }
   ],
   "source": [
    "a1 = \"My name is Mrinmoy Bordoloi\"\n",
    "print(a1)"
   ]
  },
  {
   "cell_type": "code",
   "execution_count": 39,
   "metadata": {},
   "outputs": [
    {
     "name": "stdout",
     "output_type": "stream",
     "text": [
      " \n",
      " \n",
      "H\n",
      "e\n",
      "l\n",
      "l\n",
      "o\n",
      " \n",
      "W\n",
      "o\n",
      "r\n",
      "l\n",
      "d\n",
      " \n"
     ]
    }
   ],
   "source": [
    "s = \" Hello World \"\n",
    "print(s[0])\n",
    "\n",
    "for num in range(0,len(s)):\n",
    "    print(s[num],sep= \" \")\n"
   ]
  },
  {
   "cell_type": "markdown",
   "metadata": {},
   "source": [
    "# METHODS OF STRING CLASS"
   ]
  },
  {
   "cell_type": "code",
   "execution_count": null,
   "metadata": {},
   "outputs": [],
   "source": [
    "## String type methods\n",
    "## We will \n",
    "\n",
    "## Difference between data types and Class\n"
   ]
  },
  {
   "cell_type": "code",
   "execution_count": 40,
   "metadata": {},
   "outputs": [],
   "source": [
    "a1 = \"\"\"## Python\n",
    "## Stack Queue LinkedList\n",
    "\n",
    "## Customm data types\"\"\"\n"
   ]
  },
  {
   "cell_type": "code",
   "execution_count": 41,
   "metadata": {},
   "outputs": [
    {
     "name": "stdout",
     "output_type": "stream",
     "text": [
      "## Python\n",
      "## Stack Queue LinkedList\n",
      "\n",
      "## Customm data types\n"
     ]
    }
   ],
   "source": [
    "print(a1)"
   ]
  },
  {
   "cell_type": "code",
   "execution_count": 42,
   "metadata": {},
   "outputs": [],
   "source": [
    "## Stack Queue Linked-List Graph Tree are the Data Structures\n"
   ]
  },
  {
   "cell_type": "code",
   "execution_count": 45,
   "metadata": {},
   "outputs": [],
   "source": [
    "## Mthods od string class\n",
    "class Human:\n",
    "    def __init__(self,Name):\n",
    "        self.Name = Name## Class \n",
    "\n",
    "    def __repr__(self):\n",
    "        return f\"{self.Name}\"\n",
    "    \n",
    "    def Cry(self):\n",
    "       print(\"Hi there How are you\")"
   ]
  },
  {
   "cell_type": "code",
   "execution_count": 47,
   "metadata": {},
   "outputs": [
    {
     "name": "stdout",
     "output_type": "stream",
     "text": [
      "5 <class 'int'>\n",
      "Hello World\n"
     ]
    }
   ],
   "source": [
    "x = 5\n",
    "print(x,type(x))\n",
    "x = \"Hello World\"\n",
    "print(x)"
   ]
  },
  {
   "cell_type": "code",
   "execution_count": 46,
   "metadata": {},
   "outputs": [],
   "source": [
    "x: int;\n",
    "y: float;\n"
   ]
  },
  {
   "cell_type": "code",
   "execution_count": 51,
   "metadata": {},
   "outputs": [],
   "source": [
    "## Variable Name\n",
    "\n",
    "Name: str;\n",
    "Sal: float;\n",
    "Language:  list;\n",
    "Education: dict;\n",
    "## Tos tore all the information about the  education\n"
   ]
  },
  {
   "cell_type": "code",
   "execution_count": 52,
   "metadata": {},
   "outputs": [
    {
     "name": "stdout",
     "output_type": "stream",
     "text": [
      "<class 'type'>\n"
     ]
    }
   ],
   "source": [
    "print(type(list))"
   ]
  },
  {
   "cell_type": "code",
   "execution_count": 1,
   "metadata": {},
   "outputs": [
    {
     "name": "stdout",
     "output_type": "stream",
     "text": [
      "\n",
      "Hello There\n",
      "\n",
      "My name is a Mrinmouy Bordoloi\n",
      "\n"
     ]
    }
   ],
   "source": [
    "Application_template = \"\"\"\n",
    "Hello There\n",
    "\n",
    "My name is a Mrinmouy Bordoloi\n",
    "\"\"\"\n",
    "\n",
    "print(Application_template)"
   ]
  },
  {
   "cell_type": "code",
   "execution_count": 2,
   "metadata": {},
   "outputs": [
    {
     "name": "stdout",
     "output_type": "stream",
     "text": [
      "Mrinmoy 24 INDIA 12.4 \n",
      "XYZ\n",
      "\n"
     ]
    }
   ],
   "source": [
    "## Implementaion ofthe Stack\n",
    "\n",
    "Name = \"Mrinmoy\";\n",
    "Age = 24\n",
    "Country = \"INDIA\"\n",
    "Height = 12.4\n",
    "Info =\"\"\"\n",
    "XYZ\n",
    "\"\"\"\n",
    "\n",
    "\n",
    "\n",
    "print(Name,Age,Country,Height,Info)\n"
   ]
  },
  {
   "cell_type": "code",
   "execution_count": 3,
   "metadata": {},
   "outputs": [
    {
     "data": {
      "text/plain": [
       "'The shell Output is directly Printed'"
      ]
     },
     "execution_count": 3,
     "metadata": {},
     "output_type": "execute_result"
    }
   ],
   "source": [
    "\"\"\"The shell Output is directly Printed\"\"\""
   ]
  },
  {
   "cell_type": "code",
   "execution_count": 4,
   "metadata": {},
   "outputs": [
    {
     "name": "stdout",
     "output_type": "stream",
     "text": [
      "Hello There My name is Mrinmoy 12.23 let;s Happens \n"
     ]
    }
   ],
   "source": [
    "## Formaatting the DATA\n",
    "# We will have the following\n",
    "\n",
    "s = \"Hello There My name is Mrinmoy %.2f let,s Happens \"%(12.23)\n",
    "print(s)"
   ]
  },
  {
   "cell_type": "code",
   "execution_count": 5,
   "metadata": {},
   "outputs": [
    {
     "name": "stdout",
     "output_type": "stream",
     "text": [
      "The float Type -->> 12.12 \n"
     ]
    }
   ],
   "source": [
    "## Out of 2 decimal Places\n",
    "\n",
    "A1 = \"The float Type -->> %.2f \"%(12.123456);\n",
    "print(A1)"
   ]
  },
  {
   "cell_type": "code",
   "execution_count": 6,
   "metadata": {},
   "outputs": [],
   "source": [
    "## The formatting of the string\n",
    "\n",
    "## The format method of the string\n",
    "## We will work on the core version of the Python\n",
    "\n"
   ]
  },
  {
   "cell_type": "code",
   "execution_count": 7,
   "metadata": {},
   "outputs": [],
   "source": [
    "# f - string-->> It will work on th e version >= 3.6"
   ]
  },
  {
   "cell_type": "code",
   "execution_count": 8,
   "metadata": {},
   "outputs": [
    {
     "name": "stdout",
     "output_type": "stream",
     "text": [
      " f - string-->> It will work on th e version >= 3.6\n"
     ]
    }
   ],
   "source": [
    "print(\" f - string-->> It will work on th e version >= 3.6\")"
   ]
  },
  {
   "cell_type": "code",
   "execution_count": 9,
   "metadata": {},
   "outputs": [
    {
     "data": {
      "text/plain": [
       "' f - string-->> It will work on th e version >= 3.6'"
      ]
     },
     "execution_count": 9,
     "metadata": {},
     "output_type": "execute_result"
    }
   ],
   "source": [
    "\" f - string-->> It will work on th e version >= 3.6\""
   ]
  },
  {
   "cell_type": "code",
   "execution_count": 11,
   "metadata": {},
   "outputs": [
    {
     "name": "stdout",
     "output_type": "stream",
     "text": [
      "The following is the f string value -->>  Hi there My name is Mrinmoy\n"
     ]
    }
   ],
   "source": [
    "## Formatting the variable\n",
    "\n",
    "val_1 = \"Hi there My name is Mrinmoy\"\n",
    "\n",
    "print(\"The following is the f string value -->> \",f\"{val_1}\")"
   ]
  },
  {
   "cell_type": "code",
   "execution_count": 16,
   "metadata": {},
   "outputs": [
    {
     "name": "stdout",
     "output_type": "stream",
     "text": [
      "My name is Mrinmoy Next Text -->> I am currently studying in class 12\n"
     ]
    }
   ],
   "source": [
    "## The format method is as follows \n",
    "val1 = \"My name is Mrinmoy\"\n",
    "val2 = \"I am currently studying in class 12\"\n",
    "\n",
    "print(f\"{val1} Next Text -->> {val2}\")"
   ]
  },
  {
   "cell_type": "code",
   "execution_count": 19,
   "metadata": {},
   "outputs": [
    {
     "name": "stdout",
     "output_type": "stream",
     "text": [
      "My nameis Mrinmoy Bordoloi\n"
     ]
    }
   ],
   "source": [
    "## Normall method for the implememtation of the text\n",
    "\n",
    "Name = input(\"EEnter your name \");\n",
    "print(f\"My nameis {Name}\")\n",
    "\n",
    "\n",
    "\n"
   ]
  },
  {
   "cell_type": "code",
   "execution_count": 20,
   "metadata": {},
   "outputs": [],
   "source": [
    "## { iT isa aparticulart type of placeholder}"
   ]
  },
  {
   "cell_type": "code",
   "execution_count": 22,
   "metadata": {},
   "outputs": [],
   "source": [
    "Val = \"\"\"## {} Will indicate the replacmeen tfield \n",
    "##  It is defined to be replaced\"\"\""
   ]
  },
  {
   "cell_type": "code",
   "execution_count": 23,
   "metadata": {},
   "outputs": [
    {
     "name": "stdout",
     "output_type": "stream",
     "text": [
      "## {} Will indicate the replacmeen tfield \n",
      "##  It is defined to be replaced\n"
     ]
    }
   ],
   "source": [
    "print(Val)"
   ]
  },
  {
   "cell_type": "code",
   "execution_count": 24,
   "metadata": {},
   "outputs": [
    {
     "name": "stdout",
     "output_type": "stream",
     "text": [
      "Welcome !! User Mrinmoy \n"
     ]
    }
   ],
   "source": [
    "Name = input(\"Enter a value\")\n",
    "s = f\"Welcome !! User {Name} \"\n",
    "print(s)"
   ]
  },
  {
   "cell_type": "code",
   "execution_count": 25,
   "metadata": {},
   "outputs": [
    {
     "name": "stdout",
     "output_type": "stream",
     "text": [
      "Welcome !! , My name is Mrinmoy Bordoloi\n"
     ]
    }
   ],
   "source": [
    "A1 = \"Welcome !! , My name is Mrinmoy Bordoloi\".format()\n",
    "print(A1)"
   ]
  },
  {
   "cell_type": "code",
   "execution_count": 26,
   "metadata": {},
   "outputs": [
    {
     "name": "stdout",
     "output_type": "stream",
     "text": [
      "Welcome!! My name is Mrinmoy Bordoloi\n"
     ]
    }
   ],
   "source": [
    "Name = input(\"Enter your Name: \")\n",
    "s = \"Welcome!! My name is {}\".format(Name)\n",
    "print(s)"
   ]
  },
  {
   "cell_type": "code",
   "execution_count": null,
   "metadata": {},
   "outputs": [],
   "source": []
  }
 ],
 "metadata": {
  "kernelspec": {
   "display_name": "Python 3",
   "language": "python",
   "name": "python3"
  },
  "language_info": {
   "codemirror_mode": {
    "name": "ipython",
    "version": 3
   },
   "file_extension": ".py",
   "mimetype": "text/x-python",
   "name": "python",
   "nbconvert_exporter": "python",
   "pygments_lexer": "ipython3",
   "version": "3.12.5"
  }
 },
 "nbformat": 4,
 "nbformat_minor": 2
}
